{
 "cells": [
  {
   "cell_type": "code",
   "execution_count": 16,
   "metadata": {},
   "outputs": [
    {
     "data": {
      "text/plain": [
       "[1, 2, 200, 3, 4, 5, 6, 0, 0]"
      ]
     },
     "execution_count": 16,
     "metadata": {},
     "output_type": "execute_result"
    }
   ],
   "source": [
    "#Inserting a element on a certain index in an array\n",
    "\n",
    "arr=[1,2,3,4,5,6,0,0,0] #[0 means the empty places of the array]\n",
    "\n",
    "\n",
    "#Using For loop.\n",
    "def insert_in_index(arr,idx,size,value):  # Size means the number of valid values excluding 0s which represent epmty space Here size is 6. Len of values without 0s to be more specific.\n",
    "    if size==len(arr):\n",
    "        return \"No space\"\n",
    "    if idx<0 or idx>size:\n",
    "        return \"Invalid index\"\n",
    "    for i in range(size,idx,-1):\n",
    "        arr[i]=arr[i-1]\n",
    "    arr[idx]=value\n",
    "    return arr\n",
    "insert_in_index(arr,2,6,200)\n",
    "\n",
    "#Using While loop\n",
    "arr2=[1,2,3,4,5,6,0,0,0]\n",
    "def insert_in_index2(arr,idx,size,value):\n",
    "    if size==len(arr):\n",
    "        return \"No space!\"\n",
    "    if idx<0 or idx>size:\n",
    "        return \"Invalid index\"\n",
    "    i=size\n",
    "    while(i>idx):\n",
    "        arr[i]=arr[i-1]\n",
    "        i=i-1\n",
    "    arr[idx]=value\n",
    "    return arr\n",
    "insert_in_index2(arr2,2,6,200)\n",
    "            \n",
    "\n",
    "\n",
    "\n",
    "                                        \n"
   ]
  },
  {
   "cell_type": "code",
   "execution_count": 24,
   "metadata": {},
   "outputs": [
    {
     "data": {
      "text/plain": [
       "[5, 4, 3, 2, 1]"
      ]
     },
     "execution_count": 24,
     "metadata": {},
     "output_type": "execute_result"
    }
   ],
   "source": [
    "#Reverse an array-Out of place(Outputting a new array)\n",
    "\n",
    "#USING fOR LOOP\n",
    "arr=[1,2,3,4,5]\n",
    "def rev_array(arr):\n",
    "    arr_empty=[0]*len(arr)\n",
    "    j=0\n",
    "    for i in range(len(arr)-1,-1,-1):\n",
    "        arr_empty[j]=arr[i]\n",
    "        j=j+1\n",
    "    return arr_empty\n",
    "rev_array(arr)\n",
    "\n",
    "#Using While Loop\n",
    "arr2=[1,2,3,4,5]\n",
    "def rev_array2(arr):\n",
    "    arr_empty=[0]*len(arr)\n",
    "    i=len(arr)-1\n",
    "    j=0\n",
    "    while(i>j):\n",
    "        arr_empty[j]=arr[i]\n",
    "        i-=1\n",
    "        j+=1\n",
    "    return arr_empty\n",
    "#another approach\n",
    "arr2=[1,2,3,4,5]\n",
    "def rev_array2(arr):\n",
    "    arr_empty=[0]*len(arr)\n",
    "    i=len(arr)-1\n",
    "    j=0\n",
    "    while(i>=0):\n",
    "        arr_empty[j]=arr[i]\n",
    "        i-=1\n",
    "        j+=1\n",
    "    return arr_empty\n",
    "rev_array2(arr2)"
   ]
  },
  {
   "cell_type": "code",
   "execution_count": 27,
   "metadata": {},
   "outputs": [
    {
     "data": {
      "text/plain": [
       "[7, 6, 5, 4, 3, 2, 1]"
      ]
     },
     "execution_count": 27,
     "metadata": {},
     "output_type": "execute_result"
    }
   ],
   "source": [
    "#Reverse an array -in place(Outputting the same array)\n",
    "arr=[1,2,3,4,5,6,7]\n",
    "def rev_arr(arr):\n",
    "    j=0\n",
    "    i=len(arr)-1\n",
    "    while(i>j):\n",
    "        temp=arr[i]\n",
    "        arr[i]=arr[j]\n",
    "        arr[j]=temp\n",
    "        i-=1\n",
    "        j+=1\n",
    "    return arr\n",
    "rev_arr(arr)\n",
    "    "
   ]
  },
  {
   "cell_type": "code",
   "execution_count": 5,
   "metadata": {},
   "outputs": [
    {
     "data": {
      "text/plain": [
       "[0, 1, 2, 3, 4, 5, 6]"
      ]
     },
     "execution_count": 5,
     "metadata": {},
     "output_type": "execute_result"
    }
   ],
   "source": [
    "#Right shifting an array by 1.\n",
    "\n",
    "arr=[1,2,3,4,5,6,7]\n",
    "\n",
    "def right_shift(arr):\n",
    "    i=len(arr)-1\n",
    "    while i>0:\n",
    "        arr[i]=arr[i-1]\n",
    "        i-=1\n",
    "    arr[0]=0\n",
    "    return arr\n",
    "right_shift(arr)"
   ]
  },
  {
   "cell_type": "code",
   "execution_count": 1,
   "metadata": {},
   "outputs": [
    {
     "data": {
      "text/plain": [
       "[5, 1, 2, 3, 4]"
      ]
     },
     "execution_count": 1,
     "metadata": {},
     "output_type": "execute_result"
    }
   ],
   "source": [
    "#Right rotating an array by 1:\n",
    "\n",
    "arr=[1,2,3,4,5]\n",
    "\n",
    "def right_rotate(arr):\n",
    "    rotated_val=arr[len(arr)-1] #in python we can simply use arr[-1]\n",
    "    i=len(arr)-1\n",
    "    while(i>0):\n",
    "        arr[i]=arr[i-1]\n",
    "        i-=1\n",
    "    arr[0]=rotated_val\n",
    "    return arr\n",
    "right_rotate(arr)"
   ]
  },
  {
   "cell_type": "code",
   "execution_count": 1,
   "metadata": {},
   "outputs": [
    {
     "name": "stdout",
     "output_type": "stream",
     "text": [
      "4\n"
     ]
    },
    {
     "data": {
      "text/plain": [
       "[0, 0, 0, 0, 10]"
      ]
     },
     "execution_count": 1,
     "metadata": {},
     "output_type": "execute_result"
    }
   ],
   "source": [
    "#Right shifting by k places\n",
    "\n",
    "arr=[10,20,30,40,50]\n",
    "def rshift(arr,k):\n",
    "    i=len(arr)-1\n",
    "    while i>=k:\n",
    "        arr[i]=arr[i-k]\n",
    "        i-=1\n",
    "    j=0\n",
    "    while j<k:\n",
    "        arr[j]=0\n",
    "        j+=1\n",
    "    return arr\n",
    "k=int(input())\n",
    "rshift(arr,k)\n"
   ]
  },
  {
   "cell_type": "code",
   "execution_count": 3,
   "metadata": {},
   "outputs": [
    {
     "data": {
      "text/plain": [
       "[40, 50, 60, 0, 0, 0]"
      ]
     },
     "execution_count": 3,
     "metadata": {},
     "output_type": "execute_result"
    }
   ],
   "source": [
    "#Left shift an array by k places\n",
    "\n",
    "def shiftLeft(source,k):\n",
    "    i=len(source)-1\n",
    "    while i>=k:\n",
    "        source[i-k]=source[i]\n",
    "        source[i]=0\n",
    "        i-=1 \n",
    "    j=len(source)-1\n",
    "    for i in range(0,3):\n",
    "        source[j]=0\n",
    "        j-=1\n",
    "    return source\n",
    "source=[10,20,30,40,50,60]\n",
    "shiftLeft(source,3)"
   ]
  },
  {
   "cell_type": "code",
   "execution_count": 4,
   "metadata": {},
   "outputs": [
    {
     "data": {
      "text/plain": [
       "[40, 50, 60, 10, 20, 30]"
      ]
     },
     "execution_count": 4,
     "metadata": {},
     "output_type": "execute_result"
    }
   ],
   "source": [
    "#Left rotate an array by k places:\n",
    "\n",
    "def rotateLeft(source,k):\n",
    "    for i in range(0,k):\n",
    "        temp=source[0]\n",
    "        for j in range(0,len(source)-1):\n",
    "            source[j]=source[j+1]\n",
    "        source[len(source)-1]=temp\n",
    "    return source\n",
    "source=[10,20,30,40,50,60]\n",
    "rotateLeft(source,3)"
   ]
  },
  {
   "cell_type": "code",
   "execution_count": 2,
   "metadata": {},
   "outputs": [
    {
     "name": "stdout",
     "output_type": "stream",
     "text": [
      "2\n"
     ]
    },
    {
     "data": {
      "text/plain": [
       "[40, 50, 10, 20, 30]"
      ]
     },
     "execution_count": 2,
     "metadata": {},
     "output_type": "execute_result"
    }
   ],
   "source": [
    "#Right rotating by k places\n",
    "\n",
    "arr=[10,20,30,40,50]\n",
    "\n",
    "def rRotate(arr,k):\n",
    "    arr2=[0]*k\n",
    "    i=0\n",
    "    j=len(arr)-k\n",
    "    while i<k:\n",
    "        arr2[i]=arr[j]\n",
    "        i+=1\n",
    "        j+=1\n",
    "    z=len(arr)-1\n",
    "    while z>=k:\n",
    "        arr[z]=arr[z-k]\n",
    "        z-=1\n",
    "    x=0\n",
    "    while(x<k):\n",
    "        arr[x]=arr2[x]\n",
    "        x+=1\n",
    "    return arr\n",
    "k=int(input())\n",
    "rRotate(arr,k)\n",
    "    "
   ]
  },
  {
   "cell_type": "code",
   "execution_count": 5,
   "metadata": {},
   "outputs": [
    {
     "data": {
      "text/plain": [
       "[10, 20, 200, 30, 40, 50, 0, 0]"
      ]
     },
     "execution_count": 5,
     "metadata": {},
     "output_type": "execute_result"
    }
   ],
   "source": [
    "#Insertion in array\n",
    "\n",
    "arr=[10,20,30,40,50,0,0,0]\n",
    "\n",
    "def insert_in_array(arr,size,index,value):\n",
    "    if len(arr)==size:\n",
    "        return \"No space for insertion!\"\n",
    "    if index<0 or index>size:\n",
    "        return \"Invalid index\"\n",
    "    i=size\n",
    "    while(i>index):\n",
    "        arr[i]=arr[i-1]\n",
    "        i-=1\n",
    "    arr[index]=value\n",
    "    return arr\n",
    "insert_in_array(arr,5,2,200)\n"
   ]
  },
  {
   "cell_type": "code",
   "execution_count": 10,
   "metadata": {},
   "outputs": [
    {
     "data": {
      "text/plain": [
       "[10, 2, 30, 2, 50, 2, 60, 0, 0, 0]"
      ]
     },
     "execution_count": 10,
     "metadata": {},
     "output_type": "execute_result"
    }
   ],
   "source": [
    "#Removing an element from array\n",
    "arr=[10,2,30,2,50,2,2,60,0,0]\n",
    "def remove(arr,size,index):\n",
    "    if index<0 or index>size-1:\n",
    "        return \"Invalid index!\"\n",
    "    if size!=len(arr):\n",
    "        i=index\n",
    "        while i<size:\n",
    "            arr[i]=arr[i+1]\n",
    "            i+=1\n",
    "        return arr\n",
    "    else:\n",
    "        i=index\n",
    "        while i<size-1:\n",
    "            arr[i]=arr[i+1]\n",
    "            i+=1\n",
    "        arr[size-1]=0\n",
    "        return arr\n",
    "remove(arr,8,6)"
   ]
  },
  {
   "cell_type": "code",
   "execution_count": 12,
   "metadata": {},
   "outputs": [
    {
     "data": {
      "text/plain": [
       "[40, 50, 0, 0, 0, 0, 0, 0, 10, 20, 30]"
      ]
     },
     "execution_count": 12,
     "metadata": {},
     "output_type": "execute_result"
    }
   ],
   "source": [
    "#Converting linear array to circular array starting from given index:\n",
    "\n",
    "arr=[10,20,30,40,50,0,0,0,0,0,0]\n",
    "def lin_to_cir(arr,size,index):#My methid\n",
    "    arr2=[0]*len(arr)\n",
    "    i=0\n",
    "    j=index\n",
    "    while i<size:\n",
    "        arr2[j]=arr[i]\n",
    "        i+=1\n",
    "        j+=1\n",
    "        if j==len(arr):\n",
    "            j=0\n",
    "    return arr2\n",
    "lin_to_cir(arr,5,8)\n",
    "\n",
    "#A more smart method\n",
    "\n",
    "def lin_to_cir2(arr,size,index):\n",
    "    arr2=[0]*len(arr)\n",
    "    i=0\n",
    "    j=index\n",
    "    while i<size:\n",
    "        arr2[j]=arr[i]\n",
    "        i+=1\n",
    "        j=(j+1)%len(arr2)\n",
    "    return arr2\n",
    "\n",
    "lin_to_cir2(arr,5,8)\n",
    "\n",
    "        \n",
    "    "
   ]
  },
  {
   "cell_type": "code",
   "execution_count": 4,
   "metadata": {},
   "outputs": [
    {
     "name": "stdout",
     "output_type": "stream",
     "text": [
      "10\n",
      "20\n",
      "30\n",
      "40\n",
      "50\n"
     ]
    }
   ],
   "source": [
    "#Forward printing a circular array:\n",
    "arr=[40,50,0,0,0,0,0,0,10,20,30]\n",
    "def forward_cir_arr(arr,size,starting_idx):\n",
    "    i=0\n",
    "    j=starting_idx\n",
    "    while i<size:\n",
    "        print(arr[j])\n",
    "        i+=1\n",
    "        j=(j+1)%len(arr)\n",
    "forward_cir_arr(arr,5,8)\n",
    "        \n"
   ]
  },
  {
   "cell_type": "code",
   "execution_count": 6,
   "metadata": {},
   "outputs": [
    {
     "name": "stdout",
     "output_type": "stream",
     "text": [
      "50\n",
      "40\n",
      "30\n",
      "20\n",
      "10\n"
     ]
    }
   ],
   "source": [
    "#Reverse printing a circular array\n",
    "\n",
    "arr=[40,50,0,0,0,0,0,0,10,20,30]\n",
    "\n",
    "def rev(arr,size,start_idx):\n",
    "    last_idx=(size+start_idx-1)%len(arr)\n",
    "    i=0\n",
    "    while i<size:\n",
    "        print(arr[last_idx])\n",
    "        last_idx-=1\n",
    "        i+=1\n",
    "        if last_idx<0:\n",
    "            last_idx=len(arr)-1\n",
    "    \n",
    "rev(arr,5,8)"
   ]
  },
  {
   "cell_type": "code",
   "execution_count": 5,
   "metadata": {},
   "outputs": [
    {
     "data": {
      "text/plain": [
       "[0, 1, 2, 1]"
      ]
     },
     "execution_count": 5,
     "metadata": {},
     "output_type": "execute_result"
    }
   ],
   "source": [
    "def arr_series(n):\n",
    "    arr=[0]*(n*n)\n",
    "    temp=n\n",
    "    for i in range(len(arr)-1,0,-n):\n",
    "        k=i\n",
    "        for j in range(1,temp+1):\n",
    "            arr[k]=j\n",
    "            k-=1\n",
    "        temp-=1\n",
    "    return arr\n",
    "arr_series(2)"
   ]
  },
  {
   "cell_type": "code",
   "execution_count": 17,
   "metadata": {},
   "outputs": [
    {
     "data": {
      "text/plain": [
       "4"
      ]
     },
     "execution_count": 17,
     "metadata": {},
     "output_type": "execute_result"
    }
   ],
   "source": [
    "def max_bunch(arr):\n",
    "    count=1\n",
    "    answer=0\n",
    "    for i in range(0,len(arr)-1):\n",
    "        if arr[i]==arr[i+1]:\n",
    "            count=count+1\n",
    "        else:\n",
    "            if count>answer:\n",
    "                answer=count\n",
    "                count=1\n",
    "            continue\n",
    "    answer=count\n",
    "    return answer\n",
    "max_bunch([1,2,3,3,3,3])\n"
   ]
  },
  {
   "cell_type": "code",
   "execution_count": null,
   "metadata": {},
   "outputs": [],
   "source": [
    "def rep_finder(arr):\n",
    "    arr1=[0]*len(arr)\n",
    "    arr2=[0]*len(arr)\n",
    "    for i in range(0,len(arr)):\n",
    "        if i not in arr[2]:\n",
    "            count=0\n",
    "            for j in range(i+1,len(arr)):\n",
    "                if arr[j]==arr[i]:\n",
    "                    count+=1\n",
    "        continue\n",
    "    \n",
    "            \n",
    "        "
   ]
  },
  {
   "cell_type": "code",
   "execution_count": 13,
   "metadata": {},
   "outputs": [
    {
     "data": {
      "text/plain": [
       "[40, 50, 0, 0, 10, 20, 30]"
      ]
     },
     "execution_count": 13,
     "metadata": {},
     "output_type": "execute_result"
    }
   ],
   "source": [
    "#Resizing a circular array:Should remeber that, starting index must not change on resized one.\n",
    "arr=[20,30,40,50,10]#Resize it by given number of sells\n",
    "\n",
    "def resize(arr,size,start_idx,n):#n=number of new cells\n",
    "    final_arr=[0]*(len(arr)+n)\n",
    "    i=0\n",
    "    j=start_idx\n",
    "    k=start_idx\n",
    "    while i<size:\n",
    "        final_arr[k]=arr[j]\n",
    "        i+=1\n",
    "        j=(j+1)%len(arr)\n",
    "        k=(k+1)%len(final_arr)\n",
    "    return final_arr\n",
    "resize(arr,5,4,2)"
   ]
  },
  {
   "cell_type": "code",
   "execution_count": 5,
   "metadata": {},
   "outputs": [
    {
     "data": {
      "text/plain": [
       "[20, 10, 0, 0, 50, 40, 30]"
      ]
     },
     "execution_count": 5,
     "metadata": {},
     "output_type": "execute_result"
    }
   ],
   "source": [
    "#Reverse a circular array\n",
    "arr=[40,50,0,0,10,20,30]\n",
    "def rev(arr,size,strt_idx):\n",
    "    arr2=[0]*size\n",
    "    i=0\n",
    "    j=strt_idx\n",
    "    while i<size:\n",
    "        arr2[i]=arr[j]\n",
    "        j=(j+1)%len(arr)\n",
    "        i+=1\n",
    "    i=len(arr2)-1\n",
    "    j=strt_idx\n",
    "    while i>=0:\n",
    "        arr[j]=arr2[i]\n",
    "        i-=1\n",
    "        j=(j+1)%len(arr)\n",
    "    return arr\n",
    "rev(arr,5,4)"
   ]
  },
  {
   "cell_type": "code",
   "execution_count": 4,
   "metadata": {},
   "outputs": [
    {
     "name": "stdout",
     "output_type": "stream",
     "text": [
      "[50, 0, 0, 0, 20, 30, 40]\n"
     ]
    }
   ],
   "source": [
    "#Removing Element by left shifting\n",
    "\n",
    "arr=[40,50,0,0,10,20,30]\n",
    "start=4\n",
    "idx=4\n",
    "size=5\n",
    "i=0\n",
    "j=idx\n",
    "k=(j+1)%len(arr)\n",
    "while(i<size):\n",
    "    arr[j]=arr[k]\n",
    "    j=(j+1)%len(arr)\n",
    "    k=(k+1)%len(arr)\n",
    "    i+=1\n",
    "print(arr)\n",
    "    "
   ]
  },
  {
   "cell_type": "code",
   "execution_count": 16,
   "metadata": {},
   "outputs": [
    {
     "name": "stdout",
     "output_type": "stream",
     "text": [
      "[30, 40, 50, 0, 0, 0, 20]\n"
     ]
    }
   ],
   "source": [
    "#Removing element by right shifting\n",
    "\n",
    "arr=[40,50,0,0,10,20,30]\n",
    "start=4\n",
    "idx=4\n",
    "size=5\n",
    "i=0\n",
    "j=idx\n",
    "n=len(arr)-1\n",
    "\n",
    "while j>0:\n",
    "    arr[j]=arr[j-1]\n",
    "    j-=1\n",
    "arr[0]=arr[len(arr)-1]\n",
    "k=len(arr)-1\n",
    "while k>idx:\n",
    "    arr[k]=arr[k-1]\n",
    "    k-=1\n",
    "print(arr)"
   ]
  },
  {
   "cell_type": "code",
   "execution_count": 19,
   "metadata": {},
   "outputs": [
    {
     "name": "stdout",
     "output_type": "stream",
     "text": [
      "4\n",
      "14\n"
     ]
    }
   ],
   "source": [
    "def solve(arr):\n",
    "    arr_even=[0]*2\n",
    "    arr_odd=[0]*2\n",
    "    s_smallest_even=1000000\n",
    "    s_smallest_odd=9999999\n",
    "    s_highest_even=0\n",
    "    s_highest_odd=0\n",
    "    \n",
    "    highest_odd=0\n",
    "    highest_even=0\n",
    "    smallest_odd=9999999\n",
    "    smallest_even=100000000\n",
    "    desired_idx1=0\n",
    "    desired_idx2=0\n",
    "    \n",
    "    for i in range(0,len(arr)):\n",
    "        if arr[i!]=0:\n",
    "            if i%2==0:\n",
    "                if(i>highest_even):\n",
    "                    highest_even=i\n",
    "                if i<smallest_even:\n",
    "                    smallest_even=i\n",
    "                if(i<highest_even and i>s_highest_even):\n",
    "                    s_highest_even=i\n",
    "                    desired_index1=i+1\n",
    "                    \n",
    "                if(i>smallest_even and i<s_smallest_even):\n",
    "                    s_smallest_even=i\n",
    "                    desired_index2=i+1\n",
    "\n",
    "            else:\n",
    "                if(i>highest_odd):\n",
    "                    highest_odd=i\n",
    "                if i<smallest_odd:\n",
    "                    smallest_odd=i\n",
    "                if(i<highest_odd and i>s_highest_odd):\n",
    "                    s_highest_odd=i\n",
    "                if(i>smallest_odd and i<s_smallest_odd):\n",
    "                    s_smallest_odd=i\n",
    "            arr[i+1]=()\n",
    "            arr[]\n",
    "    \n"
   ]
  }
 ],
 "metadata": {
  "kernelspec": {
   "display_name": "Python 3",
   "language": "python",
   "name": "python3"
  },
  "language_info": {
   "codemirror_mode": {
    "name": "ipython",
    "version": 3
   },
   "file_extension": ".py",
   "mimetype": "text/x-python",
   "name": "python",
   "nbconvert_exporter": "python",
   "pygments_lexer": "ipython3",
   "version": "3.7.6"
  }
 },
 "nbformat": 4,
 "nbformat_minor": 4
}
