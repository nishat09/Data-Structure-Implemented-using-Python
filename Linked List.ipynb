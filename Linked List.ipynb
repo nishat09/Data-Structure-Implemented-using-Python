{
 "cells": [
  {
   "cell_type": "code",
   "execution_count": 5,
   "metadata": {},
   "outputs": [
    {
     "name": "stdout",
     "output_type": "stream",
     "text": [
      "3\n",
      "4\n"
     ]
    }
   ],
   "source": [
    "#Creating a linked list\n",
    "\n",
    "class node:\n",
    "    def __init__(self,value,n):\n",
    "        self.value=value\n",
    "        self.nextValue=n\n",
    "head=None\n",
    "n1=node(3,None)\n",
    "n2=node(4,None)\n",
    "n1.nextValue=n2#(Connection between the nodes)\n",
    "head=n1\n",
    "\n",
    "#Checking if the linked list is created in the right way.\n",
    "n=head\n",
    "while(n!=None):\n",
    "    print(n.value)\n",
    "    n=n.nextValue\n",
    "\n",
    "\n",
    "\n",
    "    "
   ]
  },
  {
   "cell_type": "code",
   "execution_count": 7,
   "metadata": {},
   "outputs": [
    {
     "name": "stdout",
     "output_type": "stream",
     "text": [
      "1\n",
      "2\n",
      "3\n",
      "4\n"
     ]
    }
   ],
   "source": [
    "#Creating a linked list\n",
    "\n",
    "class node:\n",
    "    def __init__(self,value,n):\n",
    "        self.value=value\n",
    "        self.nextValue=n\n",
    "\n",
    "head=None\n",
    "n4=node(4,None)#Creating the object in reverse order so that it will be easier to connect them\n",
    "n3=node(3,n4)\n",
    "n2=node(2,n3)\n",
    "n1=node(1,n2)\n",
    "\n",
    "head=n1\n",
    "\n",
    "#Checking if the linked list is created in the right way.\n",
    "n=head\n",
    "while(n!=None):\n",
    "    print(n.value)\n",
    "    n=n.nextValue\n",
    "\n"
   ]
  },
  {
   "cell_type": "code",
   "execution_count": 3,
   "metadata": {},
   "outputs": [],
   "source": [
    "#Iteration\n",
    "\n",
    "#Checking if the linked list is created in the right way.\n",
    "def iterator(head):\n",
    "    n=head\n",
    "    while(n!=None):\n",
    "        print(n.value)\n",
    "        n=n.nextValue\n",
    "\n"
   ]
  },
  {
   "cell_type": "code",
   "execution_count": 13,
   "metadata": {},
   "outputs": [
    {
     "name": "stdout",
     "output_type": "stream",
     "text": [
      "4\n"
     ]
    }
   ],
   "source": [
    "#Count the number of nodes in a linked list.\n",
    "\n",
    "class node:\n",
    "    def __init__(self,value,n):\n",
    "        self.value=value\n",
    "        self.nextValue=n\n",
    "\n",
    "head=None\n",
    "n4=node(4,None)#Creating the object in reverse order so that it will be easier to connect them\n",
    "n3=node(3,n4)\n",
    "n2=node(2,n3)\n",
    "n1=node(1,n2)\n",
    "head=n1\n",
    "\n",
    "i=head\n",
    "count=0\n",
    "while(i!= None):\n",
    "    count+=1\n",
    "    i=i.nextValue\n",
    "print(count)\n"
   ]
  },
  {
   "cell_type": "code",
   "execution_count": 23,
   "metadata": {},
   "outputs": [
    {
     "data": {
      "text/plain": [
       "3"
      ]
     },
     "execution_count": 23,
     "metadata": {},
     "output_type": "execute_result"
    }
   ],
   "source": [
    "#Returning the value of a perticular index of a linked list\n",
    "#Though linked list does not have indexes as arrays\n",
    "#We still consider them  for linked list manupulation.\n",
    "class node:\n",
    "    def __init__(self,value,n):\n",
    "        self.value=value\n",
    "        self.nextValue=n\n",
    "\n",
    "head=None\n",
    "n4=node(4,None)#Creating the object in reverse order so that it will be easier to connect them\n",
    "n3=node(3,n4)\n",
    "n2=node(2,n3)\n",
    "n1=node(1,n2)\n",
    "\n",
    "head=n1\n",
    "\n",
    "def get(head,index):\n",
    "    n=head\n",
    "    count=0\n",
    "    while(n!=None):\n",
    "        if count==index:\n",
    "            return n.value\n",
    "        count+=1\n",
    "        n=n.nextValue\n",
    "    return 'Invalid index'\n",
    "\n",
    "\n",
    "get(head,2)"
   ]
  },
  {
   "cell_type": "code",
   "execution_count": 25,
   "metadata": {},
   "outputs": [
    {
     "data": {
      "text/plain": [
       "<__main__.node at 0x5162a08>"
      ]
     },
     "execution_count": 25,
     "metadata": {},
     "output_type": "execute_result"
    }
   ],
   "source": [
    "#Retrning the address of a perticular node\n",
    "\n",
    "class node:\n",
    "    def __init__(self,value,n):\n",
    "        self.value=value\n",
    "        self.nextValue=n\n",
    "\n",
    "head=None\n",
    "n4=node(4,None)#Creating the object in reverse order so that it will be easier to connect them\n",
    "n3=node(3,n4)\n",
    "n2=node(2,n3)\n",
    "n1=node(1,n2)\n",
    "\n",
    "head=n1\n",
    "\n",
    "def nodeAt(head,size,index):#size means size of the linked list\n",
    "    n=head\n",
    "    if index>size or index<0:\n",
    "        return 'Invalid Index'\n",
    "    count=0\n",
    "    while(n!=None):\n",
    "        if count==index:\n",
    "            break\n",
    "        count+=1\n",
    "        n=n.nextValue\n",
    "    return n\n",
    "nodeAt(head,4,3)\n",
    "    "
   ]
  },
  {
   "cell_type": "code",
   "execution_count": 34,
   "metadata": {},
   "outputs": [
    {
     "name": "stdout",
     "output_type": "stream",
     "text": [
      "1\n",
      "2\n",
      "7\n",
      "4\n"
     ]
    }
   ],
   "source": [
    "#Changing the value of a node.\n",
    "class node:\n",
    "    def __init__(self,value,n):\n",
    "        self.value=value\n",
    "        self.nextValue=n\n",
    "\n",
    "head=None\n",
    "n4=node(4,None)#Creating the object in reverse order so that it will be easier to connect them\n",
    "n3=node(3,n4)\n",
    "n2=node(2,n3)\n",
    "n1=node(1,n2)\n",
    "\n",
    "head=n1\n",
    "\n",
    "def set(head,index,new_value):\n",
    "    n=head\n",
    "    count=0\n",
    "    count1=0\n",
    "    while(n!=None):\n",
    "        if count==index:\n",
    "            n.value=new_value\n",
    "            count1=1\n",
    "            break\n",
    "        count+=1\n",
    "        n=n.nextValue\n",
    "    if count1>0:\n",
    "        return None\n",
    "    else:\n",
    "        return 'Invalid Index'\n",
    "set(head,2,7)\n",
    "\n",
    "n=head#Checking if the Value is changed by iterating the linked list\n",
    "while(n!=None):\n",
    "    print(n.value)\n",
    "    n=n.nextValue\n",
    "\n"
   ]
  },
  {
   "cell_type": "code",
   "execution_count": 38,
   "metadata": {},
   "outputs": [
    {
     "data": {
      "text/plain": [
       "2"
      ]
     },
     "execution_count": 38,
     "metadata": {},
     "output_type": "execute_result"
    }
   ],
   "source": [
    "#Returing the index of a value in a linked list\n",
    "class node:\n",
    "    def __init__(self,value,n):\n",
    "        self.value=value\n",
    "        self.nextValue=n\n",
    "\n",
    "head=None\n",
    "n4=node(4,None)#Creating the object in reverse order so that it will be easier to connect them\n",
    "n3=node(3,n4)\n",
    "n2=node(2,n3)\n",
    "n1=node(1,n2)\n",
    "\n",
    "head=n1\n",
    "\n",
    "def indexOf(head,value):\n",
    "    n=head\n",
    "    count=0\n",
    "    while(n!=None):\n",
    "        if n.value==value:\n",
    "            return count\n",
    "        count+=1\n",
    "        n=n.nextValue\n",
    "    return 'Value not found'\n",
    "indexOf(head,3)"
   ]
  },
  {
   "cell_type": "code",
   "execution_count": null,
   "metadata": {},
   "outputs": [],
   "source": []
  },
  {
   "cell_type": "code",
   "execution_count": 13,
   "metadata": {},
   "outputs": [
    {
     "name": "stdout",
     "output_type": "stream",
     "text": [
      "1\n",
      "2\n",
      "15\n",
      "3\n",
      "4\n"
     ]
    }
   ],
   "source": [
    "#Insert an elemnt at a linked list\n",
    "#3 possible ways. Either in the head or in middle or at last.\n",
    "\n",
    "class node:\n",
    "    def __init__(self,value,n):\n",
    "        self.value=value\n",
    "        self.nextValue=n\n",
    "\n",
    "head=None\n",
    "n4=node(4,None)#Creating the object in reverse order so that it will be easier to connect them\n",
    "n3=node(3,n4)\n",
    "n2=node(2,n3)\n",
    "n1=node(1,n2)\n",
    "\n",
    "head=n1\n",
    "\n",
    "def nodeAt(head,size,index):#size means size of the linked list\n",
    "    n=head\n",
    "    if index>size or index<0:\n",
    "        return 'Invalid Index'\n",
    "    count=0\n",
    "    while(n!=None):\n",
    "        if count==index:\n",
    "            break\n",
    "        count+=1\n",
    "        n=n.nextValue\n",
    "    return n\n",
    "def iterator(head):\n",
    "    n=head\n",
    "    while(n!=None):\n",
    "        print(n.value)\n",
    "        n=n.nextValue\n",
    "\n",
    "\n",
    "def insert_element(head,size,element,index):\n",
    "    if index<0 or index>size:\n",
    "        raise Exception ('Invalid Index')\n",
    "    if index==0:\n",
    "        new_node=node(element,head)\n",
    "        head=new_node\n",
    "    else:\n",
    "        prev_node=nodeAt(head,size,index-1)\n",
    "        new_node=node(element,prev_node.nextValue)\n",
    "        prev_node.nextValue=new_node\n",
    "    return iterator(head)\n",
    "        \n",
    "insert_element(head,4,15,2)"
   ]
  },
  {
   "cell_type": "code",
   "execution_count": 42,
   "metadata": {},
   "outputs": [
    {
     "name": "stdout",
     "output_type": "stream",
     "text": [
      "2\n",
      "3\n",
      "4\n"
     ]
    }
   ],
   "source": [
    "#Removing an element from the linked list\n",
    "#Same three cases as inserting. \n",
    "\n",
    "class node:\n",
    "    def __init__(self,value,n):\n",
    "        self.value=value\n",
    "        self.nextValue=n\n",
    "\n",
    "head=None\n",
    "n4=node(4,None)#Creating the object in reverse order so that it will be easier to connect them\n",
    "n3=node(3,n4)\n",
    "n2=node(2,n3)\n",
    "n1=node(1,n2)\n",
    "\n",
    "head=n1\n",
    "\n",
    "def nodeAt(head,size,index):#size means size of the linked list\n",
    "    n=head\n",
    "    if index>size or index<0:\n",
    "        return 'Invalid Index'\n",
    "    count=0\n",
    "    while(n!=None):\n",
    "        if count==index:\n",
    "            break\n",
    "        count+=1\n",
    "        n=n.nextValue\n",
    "    return n\n",
    "def iterator(head):\n",
    "    n=head\n",
    "    while(n!=None):\n",
    "        print(n.value)\n",
    "        n=n.nextValue\n",
    "\n",
    "def remove(head,size,index):\n",
    "    if index<0 or index>=size:\n",
    "        raise Exception('Invalid Index')\n",
    "    if index==0:\n",
    "        head=head.nextValue\n",
    "    else:\n",
    "        removed_node=nodeAt(head,size,index)\n",
    "        prev_node=nodeAt(head,size,index-1)\n",
    "        prev_node.nextValue=removed_node.nextValue\n",
    "    \n",
    "    return iterator(head)\n",
    "remove(head,4,0)\n",
    "        \n",
    "\n"
   ]
  },
  {
   "cell_type": "code",
   "execution_count": 6,
   "metadata": {},
   "outputs": [
    {
     "name": "stdout",
     "output_type": "stream",
     "text": [
      "1\n",
      "2\n",
      "3\n",
      "4\n",
      "5\n",
      "6\n",
      "7\n",
      "8\n"
     ]
    }
   ],
   "source": [
    "#Creating a linked list from an array\n",
    "class node:\n",
    "    def __init__(self,value,n):\n",
    "        self.value=value\n",
    "        self.nextValue=n\n",
    "list1=[1,2,3,4,5,6,7,8]\n",
    "\n",
    "def iterator(head):\n",
    "    n=head\n",
    "    while(n!=None):\n",
    "        print(n.value)\n",
    "        n=n.nextValue\n",
    "\n",
    "def list_from_arr(arr):\n",
    "    head=None\n",
    "    tail=None\n",
    "    \n",
    "    for i in list1:\n",
    "        new_node=node(i,None)\n",
    "        if head==None:\n",
    "            head=new_node\n",
    "            tail=new_node\n",
    "        else:\n",
    "            tail.nextValue=new_node\n",
    "            tail=new_node\n",
    "    return iterator(head)\n",
    "\n",
    "\n",
    "list_from_arr(list1)\n"
   ]
  },
  {
   "cell_type": "code",
   "execution_count": 1,
   "metadata": {},
   "outputs": [
    {
     "name": "stdout",
     "output_type": "stream",
     "text": [
      "1\n",
      "2\n",
      "3\n",
      "4\n"
     ]
    }
   ],
   "source": [
    "#Creating a linked list from another linked list\n",
    "\n",
    "class node:\n",
    "    def __init__(self,value,n):\n",
    "        self.value=value\n",
    "        self.nextValue=n\n",
    "        \n",
    "n4=node(4,None)\n",
    "n3=node(3,n4)        \n",
    "n2=node(2,n3)        \n",
    "n1=node(1,n2)\n",
    "\n",
    "head=n1\n",
    "\n",
    "def iterator(head):\n",
    "    n=head\n",
    "    while(n!=None):\n",
    "        print(n.value)\n",
    "        n=n.nextValue\n",
    "\n",
    "def list_from_list(head):\n",
    "    n=head\n",
    "    new_head=None\n",
    "    new_tale=None\n",
    "    \n",
    "    while(n!=None):\n",
    "        new_node=n\n",
    "        if new_head==None:\n",
    "            new_head=n\n",
    "            new_tail=n\n",
    "        else:\n",
    "            new_tail.nextValue=new_node\n",
    "            new_tail=new_node\n",
    "            \n",
    "        n=n.nextValue\n",
    "    return iterator(new_head)\n",
    "\n",
    "list_from_list(head)"
   ]
  },
  {
   "cell_type": "code",
   "execution_count": 4,
   "metadata": {},
   "outputs": [
    {
     "name": "stdout",
     "output_type": "stream",
     "text": [
      "4\n",
      "3\n",
      "2\n",
      "1\n"
     ]
    }
   ],
   "source": [
    "#reversing a linked list(out-place)\n",
    "\n",
    "class node:\n",
    "    def __init__(self,value,n):\n",
    "        self.value=value\n",
    "        self.nextValue=n\n",
    "        \n",
    "n4=node(4,None)\n",
    "n3=node(3,n4)        \n",
    "n2=node(2,n3)        \n",
    "n1=node(1,n2)\n",
    "\n",
    "head=n1\n",
    "\n",
    "def iterator(head):\n",
    "    n=head\n",
    "    while(n!=None):\n",
    "        print(n.value)\n",
    "        n=n.nextValue\n",
    "\n",
    "def rev(head):\n",
    "    n=head\n",
    "    new_head=None\n",
    "    \n",
    "    while(n!=None):\n",
    "        new_node=node(n.value,None)\n",
    "        if new_head==None:\n",
    "            new_head=new_node\n",
    "        else:\n",
    "            new_node.nextValue=new_head\n",
    "            new_head=new_node\n",
    "        n=n.nextValue\n",
    "    return iterator(new_head)\n",
    "\n",
    "rev(head)"
   ]
  },
  {
   "cell_type": "code",
   "execution_count": null,
   "metadata": {},
   "outputs": [],
   "source": []
  }
 ],
 "metadata": {
  "kernelspec": {
   "display_name": "Python 3",
   "language": "python",
   "name": "python3"
  },
  "language_info": {
   "codemirror_mode": {
    "name": "ipython",
    "version": 3
   },
   "file_extension": ".py",
   "mimetype": "text/x-python",
   "name": "python",
   "nbconvert_exporter": "python",
   "pygments_lexer": "ipython3",
   "version": "3.7.6"
  }
 },
 "nbformat": 4,
 "nbformat_minor": 4
}
